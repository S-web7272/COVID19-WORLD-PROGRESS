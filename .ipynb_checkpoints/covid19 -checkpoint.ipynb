{
 "metadata": {
  "language_info": {
   "codemirror_mode": {
    "name": "ipython",
    "version": 3
   },
   "file_extension": ".py",
   "mimetype": "text/x-python",
   "name": "python",
   "nbconvert_exporter": "python",
   "pygments_lexer": "ipython3",
   "version": "3.9.0"
  },
  "orig_nbformat": 4,
  "kernelspec": {
   "name": "python3",
   "display_name": "Python 3.9.0 64-bit"
  },
  "interpreter": {
   "hash": "a12d694c3ccac42055183a0ad11e659c6a2db5c6555ad2c8919d5814fd4e404f"
  }
 },
 "nbformat": 4,
 "nbformat_minor": 2,
 "cells": [
  {
   "source": [
    "import pandas as pd\n",
    "import matplotlib.pyplot as pyplot\n",
    "import  seaborn as sns\n",
    "import plotly.express as px"
   ],
   "cell_type": "code",
   "metadata": {},
   "execution_count": 3,
   "outputs": []
  },
  {
   "cell_type": "code",
   "execution_count": 5,
   "metadata": {},
   "outputs": [
    {
     "output_type": "execute_result",
     "data": {
      "text/plain": [
       "      country,iso_code,date,total_vaccinations,people_vaccinated,people_fully_vaccinated,daily_vaccinations_raw,daily_vaccinations,total_vaccinations_per_hundred,people_vaccinated_per_hundred,people_fully_vaccinated_per_hundred,daily_vaccinations_per_million,vaccines,source_name,source_website\n",
       "0      Afghanistan,AFG,22-02-2021,0,0,,,,0,0,,,\"BBIBP...                                                                                                                                                                                                                                              \n",
       "1      Afghanistan,AFG,23-02-2021,,,,,1367,,,,35,\"BBI...                                                                                                                                                                                                                                              \n",
       "2      Afghanistan,AFG,24-02-2021,,,,,1367,,,,35,\"BBI...                                                                                                                                                                                                                                              \n",
       "3      Afghanistan,AFG,25-02-2021,,,,,1367,,,,35,\"BBI...                                                                                                                                                                                                                                              \n",
       "4      Afghanistan,AFG,26-02-2021,,,,,1367,,,,35,\"BBI...                                                                                                                                                                                                                                              \n",
       "...                                                  ...                                                                                                                                                                                                                                              \n",
       "25857  Zimbabwe,ZWE,16-06-2021,1120873,697399,423474,...                                                                                                                                                                                                                                              \n",
       "25858  Zimbabwe,ZWE,17-06-2021,1126087,698953,427134,...                                                                                                                                                                                                                                              \n",
       "25859  Zimbabwe,ZWE,18-06-2021,1131397,700244,431153,...                                                                                                                                                                                                                                              \n",
       "25860  Zimbabwe,ZWE,19-06-2021,1133920,701348,432572,...                                                                                                                                                                                                                                              \n",
       "25861  Zimbabwe,ZWE,20-06-2021,1138733,703065,435668,...                                                                                                                                                                                                                                              \n",
       "\n",
       "[25862 rows x 1 columns]"
      ],
      "text/html": "<div>\n<style scoped>\n    .dataframe tbody tr th:only-of-type {\n        vertical-align: middle;\n    }\n\n    .dataframe tbody tr th {\n        vertical-align: top;\n    }\n\n    .dataframe thead th {\n        text-align: right;\n    }\n</style>\n<table border=\"1\" class=\"dataframe\">\n  <thead>\n    <tr style=\"text-align: right;\">\n      <th></th>\n      <th>country,iso_code,date,total_vaccinations,people_vaccinated,people_fully_vaccinated,daily_vaccinations_raw,daily_vaccinations,total_vaccinations_per_hundred,people_vaccinated_per_hundred,people_fully_vaccinated_per_hundred,daily_vaccinations_per_million,vaccines,source_name,source_website</th>\n    </tr>\n  </thead>\n  <tbody>\n    <tr>\n      <th>0</th>\n      <td>Afghanistan,AFG,22-02-2021,0,0,,,,0,0,,,\"BBIBP...</td>\n    </tr>\n    <tr>\n      <th>1</th>\n      <td>Afghanistan,AFG,23-02-2021,,,,,1367,,,,35,\"BBI...</td>\n    </tr>\n    <tr>\n      <th>2</th>\n      <td>Afghanistan,AFG,24-02-2021,,,,,1367,,,,35,\"BBI...</td>\n    </tr>\n    <tr>\n      <th>3</th>\n      <td>Afghanistan,AFG,25-02-2021,,,,,1367,,,,35,\"BBI...</td>\n    </tr>\n    <tr>\n      <th>4</th>\n      <td>Afghanistan,AFG,26-02-2021,,,,,1367,,,,35,\"BBI...</td>\n    </tr>\n    <tr>\n      <th>...</th>\n      <td>...</td>\n    </tr>\n    <tr>\n      <th>25857</th>\n      <td>Zimbabwe,ZWE,16-06-2021,1120873,697399,423474,...</td>\n    </tr>\n    <tr>\n      <th>25858</th>\n      <td>Zimbabwe,ZWE,17-06-2021,1126087,698953,427134,...</td>\n    </tr>\n    <tr>\n      <th>25859</th>\n      <td>Zimbabwe,ZWE,18-06-2021,1131397,700244,431153,...</td>\n    </tr>\n    <tr>\n      <th>25860</th>\n      <td>Zimbabwe,ZWE,19-06-2021,1133920,701348,432572,...</td>\n    </tr>\n    <tr>\n      <th>25861</th>\n      <td>Zimbabwe,ZWE,20-06-2021,1138733,703065,435668,...</td>\n    </tr>\n  </tbody>\n</table>\n<p>25862 rows × 1 columns</p>\n</div>"
     },
     "metadata": {},
     "execution_count": 5
    }
   ],
   "source": [
    "pd.read_csv(\"data\\country_vaccinations.csv\", sep='\\t')"
   ]
  },
  {
   "cell_type": "code",
   "execution_count": null,
   "metadata": {},
   "outputs": [],
   "source": []
  }
 ]
}